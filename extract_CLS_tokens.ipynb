{
 "cells": [
  {
   "cell_type": "code",
   "execution_count": 1,
   "metadata": {},
   "outputs": [
    {
     "name": "stdout",
     "output_type": "stream",
     "text": [
      "WARNING:tensorflow:From c:\\Users\\david\\anaconda3\\Lib\\site-packages\\keras\\src\\losses.py:2976: The name tf.losses.sparse_softmax_cross_entropy is deprecated. Please use tf.compat.v1.losses.sparse_softmax_cross_entropy instead.\n",
      "\n"
     ]
    }
   ],
   "source": [
    "import torch\n",
    "import numpy as np\n",
    "import pandas as pd\n",
    "import re\n",
    "from transformers import BertTokenizer, BertModel\n",
    "from keras.preprocessing.sequence import pad_sequences\n",
    "from torch.utils.data import TensorDataset, DataLoader, RandomSampler\n",
    "from sklearn.model_selection import train_test_split\n",
    "from tqdm import tqdm\n",
    "import os"
   ]
  },
  {
   "cell_type": "code",
   "execution_count": 5,
   "metadata": {},
   "outputs": [],
   "source": [
    "# 경로 설정\n",
    "path = 'C:\\\\Users\\\\david\\\\Desktop\\\\대학원\\\\Individual_project\\\\mbti_project\\\\MBTI&BigFive_data\\\\전처리데이터\\\\BigFive'\n",
    "os.chdir(path)"
   ]
  },
  {
   "cell_type": "code",
   "execution_count": 12,
   "metadata": {},
   "outputs": [],
   "source": [
    "## Define Function\n",
    "\n",
    "class Args:\n",
    "    def __init__(self):\n",
    "        self.raw_data = \"BigFive_prepro_sen.csv\"\n",
    "        self.max_len = 64\n",
    "        self.batch_size = 16\n",
    "args = Args()\n",
    "\n",
    "def load_data(file_path):\n",
    "    temp = pd.read_csv(file_path, sep=\",\")\n",
    "    document = temp['cleaned_text'].tolist()\n",
    "    labels = temp['cNEU'].apply(lambda x: 1 if x == 'y' else 0).tolist()\n",
    "    return document, labels\n",
    "\n",
    "def add_special_token(document):\n",
    "    # 문장으로 분할하고 [CLS], [SEP] 토큰을 추가하는 과정\n",
    "    processed_docs = []\n",
    "    for doc in document:\n",
    "        sentences = re.split(r'[.!?]\\s+', doc)  # 문장 분할\n",
    "        processed_doc = \"[CLS] \" + \" [SEP] \".join(sentences) + \" [SEP]\"\n",
    "        processed_docs.append(processed_doc)\n",
    "    return processed_docs\n",
    "\n",
    "\n",
    "def tokenization(document):\n",
    "    tokenizer = BertTokenizer.from_pretrained('bert-base-uncased')\n",
    "    tokenized = [tokenizer.tokenize(sentence) for sentence in tqdm(document, desc=\"Tokenizing\")]\n",
    "    ids = [tokenizer.convert_tokens_to_ids(sentence) for sentence in tokenized]\n",
    "    return ids\n",
    "\n",
    "def padding(ids, max_len):\n",
    "    ids = pad_sequences(ids, maxlen=max_len, dtype=\"long\", truncating='post', padding='post')\n",
    "    return ids\n",
    "\n",
    "def attention_mask(ids):\n",
    "    masks = [[float(i>0) for i in id] for id in ids]\n",
    "    return masks\n",
    "\n",
    "\n",
    "def preprocess(args):\n",
    "    document, labels = load_data(args.raw_data)\n",
    "    document = add_special_token(document)  # 문장 분할 및 특수 토큰 추가\n",
    "    ids = tokenization(document)\n",
    "    ids = padding(ids, args.max_len)\n",
    "    masks = attention_mask(ids)\n",
    "    \n",
    "    return ids, masks\n",
    "\n",
    "\n",
    "def build_dataloader(ids, masks, args):\n",
    "    dataset = TensorDataset(torch.tensor(ids), torch.tensor(masks))\n",
    "    dataloader = DataLoader(dataset, sampler=RandomSampler(dataset), batch_size=args.batch_size)\n",
    "    return dataloader\n",
    "\n",
    "def build_model():\n",
    "    model = BertModel.from_pretrained(\"bert-base-uncased\")\n",
    "    device = torch.device(\"cuda\" if torch.cuda.is_available() else \"cpu\")\n",
    "    model = model.to(device)\n",
    "    return model, device\n",
    "\n",
    "def extract_cls_vectors(dataloader, model, device):\n",
    "    model.eval()\n",
    "    cls_vectors = []\n",
    "    for batch in tqdm(dataloader, desc=\"Extracting\"):\n",
    "        batch = tuple(t.to(device) for t in batch)\n",
    "        ids, masks = batch\n",
    "        \n",
    "        with torch.no_grad():\n",
    "            outputs = model(input_ids=ids, attention_mask=masks)\n",
    "        \n",
    "        cls_vectors_batch = outputs.last_hidden_state[:, 0, :].cpu().numpy()\n",
    "        cls_vectors.extend(cls_vectors_batch)\n",
    "    \n",
    "    return cls_vectors\n",
    "\n",
    "def run(args):\n",
    "    ids, masks = preprocess(args)\n",
    "    dataloader = build_dataloader(ids, masks, args)\n",
    "    model, device = build_model()\n",
    "    cls_vectors = extract_cls_vectors(dataloader, model, device)\n",
    "    \n",
    "    # 추출된 CLS 벡터 저장\n",
    "    np.save(\"BERT_cls_Big5.npy\", np.array(cls_vectors))\n",
    "    print(\"CLS vectors have been saved.\")"
   ]
  },
  {
   "cell_type": "code",
   "execution_count": 13,
   "metadata": {},
   "outputs": [
    {
     "name": "stderr",
     "output_type": "stream",
     "text": [
      "Tokenizing: 100%|██████████| 2467/2467 [00:40<00:00, 60.49it/s]\n",
      "Extracting: 100%|██████████| 155/155 [02:56<00:00,  1.14s/it]"
     ]
    },
    {
     "name": "stdout",
     "output_type": "stream",
     "text": [
      "CLS vectors have been saved.\n"
     ]
    },
    {
     "name": "stderr",
     "output_type": "stream",
     "text": [
      "\n"
     ]
    }
   ],
   "source": [
    "# 실행\n",
    "run(args)"
   ]
  }
 ],
 "metadata": {
  "kernelspec": {
   "display_name": "base",
   "language": "python",
   "name": "python3"
  },
  "language_info": {
   "codemirror_mode": {
    "name": "ipython",
    "version": 3
   },
   "file_extension": ".py",
   "mimetype": "text/x-python",
   "name": "python",
   "nbconvert_exporter": "python",
   "pygments_lexer": "ipython3",
   "version": "3.11.5"
  }
 },
 "nbformat": 4,
 "nbformat_minor": 2
}
