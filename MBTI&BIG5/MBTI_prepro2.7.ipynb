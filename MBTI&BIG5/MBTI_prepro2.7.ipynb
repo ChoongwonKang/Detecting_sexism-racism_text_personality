{
 "cells": [
  {
   "cell_type": "code",
   "execution_count": 1,
   "metadata": {},
   "outputs": [
    {
     "name": "stdout",
     "output_type": "stream",
     "text": [
      "WARNING:tensorflow:From c:\\Users\\david\\anaconda3\\Lib\\site-packages\\keras\\src\\losses.py:2976: The name tf.losses.sparse_softmax_cross_entropy is deprecated. Please use tf.compat.v1.losses.sparse_softmax_cross_entropy instead.\n",
      "\n"
     ]
    }
   ],
   "source": [
    "import os\n",
    "import pandas as pd\n",
    "from tqdm import tqdm\n",
    "import torch\n",
    "import numpy as np\n",
    "import re\n",
    "from transformers import BertTokenizer, BertModel\n",
    "from keras.preprocessing.sequence import pad_sequences\n",
    "from torch.utils.data import TensorDataset, DataLoader, RandomSampler\n",
    "from sklearn.model_selection import train_test_split\n",
    "os.chdir('C:\\\\Users\\\\david\\\\Desktop\\\\대학원\\\\Individual_project\\\\mbti_project\\\\MBTI&BigFive_data\\\\전처리데이터\\\\MBTI')"
   ]
  },
  {
   "cell_type": "markdown",
   "metadata": {},
   "source": [
    "### Tokenize"
   ]
  },
  {
   "cell_type": "code",
   "execution_count": 20,
   "metadata": {},
   "outputs": [
    {
     "name": "stderr",
     "output_type": "stream",
     "text": [
      "100%|██████████| 8675/8675 [2:32:47<00:00,  1.06s/it]  \n"
     ]
    }
   ],
   "source": [
    "# tqdm을 pandas에 적용하기 위한 설정\n",
    "tqdm.pandas()\n",
    "\n",
    "# BERT 토크나이저 로드\n",
    "tokenizer = BertTokenizer.from_pretrained('bert-base-uncased')\n",
    "model = BertModel.from_pretrained('bert-base-uncased')\n",
    "\n",
    "# 예시 데이터 (실제 데이터로 교체 필요)\n",
    "df = pd.read_csv('MBTI_prepro2.5.csv')\n",
    "\n",
    "# 샘플 텍스트\n",
    "text = df['posts_preprocessed']\n",
    "\n",
    "\n",
    "# 토크나이징 및 입력 준비를 위한 함수 정의\n",
    "def encode_text(text):\n",
    "    inputs = tokenizer(text, \n",
    "                       return_tensors=\"pt\", \n",
    "                       max_length=512, \n",
    "                       truncation=True, \n",
    "                       padding='max_length', \n",
    "                       add_special_tokens=True)\n",
    "    with torch.inference_mode():\n",
    "        outputs = model(**inputs)\n",
    "    cls_vector = outputs.last_hidden_state[:, 0, :].numpy()\n",
    "    return cls_vector\n",
    "\n",
    "# tqdm을 사용하여 DataFrame의 각 행에 대해 함수 적용\n",
    "cls_vectors = text.progress_apply(encode_text)\n",
    "\n",
    "# 결과를 NumPy 배열로 변환\n",
    "cls_vectors_np = np.array(cls_vectors.tolist())\n",
    "\n",
    "# CLS 벡터를 NumPy 배열로 저장\n",
    "np.save(\"cls_vector.npy\", cls_vectors_np)\n"
   ]
  },
  {
   "cell_type": "markdown",
   "metadata": {},
   "source": [
    "##### else"
   ]
  },
  {
   "cell_type": "code",
   "execution_count": null,
   "metadata": {},
   "outputs": [],
   "source": [
    "\n",
    "\n",
    "# tqdm을 pandas에 적용하기 위한 설정\n",
    "tqdm.pandas()\n",
    "\n",
    "# BERT 토크나이저 및 모델 로드\n",
    "tokenizer = BertTokenizer.from_pretrained('bert-base-uncased')\n",
    "model = BertModel.from_pretrained('bert-base-uncased')\n",
    "\n",
    "# GPU 사용 설정 (CUDA 사용 가능한 경우)\n",
    "device = torch.device(\"cuda\" if torch.cuda.is_available() else \"cpu\")\n",
    "model.to(device)\n",
    "\n",
    "# 예시 데이터 (실제 데이터로 교체 필요)\n",
    "df = pd.read_csv('MBTI_prepro2.7.csv')\n",
    "\n",
    "# 토크나이징 및 입력 준비를 위한 함수 정의\n",
    "def encode_text(text):\n",
    "    inputs = tokenizer(text, return_tensors=\"pt\", max_length=512, truncation=True, padding='max_length', add_special_tokens=True)\n",
    "    inputs = inputs.to(device)  # 입력을 적절한 장치로 이동\n",
    "    with torch.inference_mode():\n",
    "        outputs = model(**inputs)\n",
    "    cls_vector = outputs.last_hidden_state[:, 0, :].cpu().numpy()  # 결과를 CPU로 이동 후 NumPy 배열로 변환\n",
    "    return cls_vector\n",
    "\n",
    "# 각 컬럼에 대해 CLS 벡터 추출 및 저장\n",
    "for col in ['10', '20', '25', '30', '40']:\n",
    "    print(f\"Processing column: {col}\")\n",
    "    cls_vectors = df[col].progress_apply(encode_text)\n",
    "    cls_vectors_np = np.vstack(cls_vectors)  # 리스트를 vstack을 사용하여 NumPy 배열로 변환\n",
    "    np.save(f\"{col}_cls.npy\", cls_vectors_np)  # 저장\n"
   ]
  },
  {
   "cell_type": "markdown",
   "metadata": {},
   "source": [
    "### text_preprocess & split sentence"
   ]
  },
  {
   "cell_type": "code",
   "execution_count": 34,
   "metadata": {},
   "outputs": [
    {
     "data": {
      "text/html": [
       "<div>\n",
       "<style scoped>\n",
       "    .dataframe tbody tr th:only-of-type {\n",
       "        vertical-align: middle;\n",
       "    }\n",
       "\n",
       "    .dataframe tbody tr th {\n",
       "        vertical-align: top;\n",
       "    }\n",
       "\n",
       "    .dataframe thead th {\n",
       "        text-align: right;\n",
       "    }\n",
       "</style>\n",
       "<table border=\"1\" class=\"dataframe\">\n",
       "  <thead>\n",
       "    <tr style=\"text-align: right;\">\n",
       "      <th></th>\n",
       "      <th>type</th>\n",
       "      <th>posts</th>\n",
       "    </tr>\n",
       "  </thead>\n",
       "  <tbody>\n",
       "    <tr>\n",
       "      <th>0</th>\n",
       "      <td>INFJ</td>\n",
       "      <td>'http://www.youtube.com/watch?v=qsXHcwe3krw|||...</td>\n",
       "    </tr>\n",
       "    <tr>\n",
       "      <th>1</th>\n",
       "      <td>ENTP</td>\n",
       "      <td>'I'm finding the lack of me in these posts ver...</td>\n",
       "    </tr>\n",
       "    <tr>\n",
       "      <th>2</th>\n",
       "      <td>INTP</td>\n",
       "      <td>'Good one  _____   https://www.youtube.com/wat...</td>\n",
       "    </tr>\n",
       "    <tr>\n",
       "      <th>3</th>\n",
       "      <td>INTJ</td>\n",
       "      <td>'Dear INTP,   I enjoyed our conversation the o...</td>\n",
       "    </tr>\n",
       "    <tr>\n",
       "      <th>4</th>\n",
       "      <td>ENTJ</td>\n",
       "      <td>'You're fired.|||That's another silly misconce...</td>\n",
       "    </tr>\n",
       "  </tbody>\n",
       "</table>\n",
       "</div>"
      ],
      "text/plain": [
       "   type                                              posts\n",
       "0  INFJ  'http://www.youtube.com/watch?v=qsXHcwe3krw|||...\n",
       "1  ENTP  'I'm finding the lack of me in these posts ver...\n",
       "2  INTP  'Good one  _____   https://www.youtube.com/wat...\n",
       "3  INTJ  'Dear INTP,   I enjoyed our conversation the o...\n",
       "4  ENTJ  'You're fired.|||That's another silly misconce..."
      ]
     },
     "execution_count": 34,
     "metadata": {},
     "output_type": "execute_result"
    }
   ],
   "source": [
    "df = pd.read_csv('C:\\\\Users\\\\david\\\\Desktop\\\\대학원\\\\Individual_project\\\\mbti_project\\\\MBTI&BigFive_data\\\\원본데이터\\\\mbti_rawdata.csv')\n",
    "df.head()"
   ]
  },
  {
   "cell_type": "code",
   "execution_count": null,
   "metadata": {},
   "outputs": [],
   "source": [
    "# 'posts' 컬럼을 ||| 기준으로 분할하고, 분할된 항목의 수를 세는 함수\n",
    "df['count'] = df['posts'].apply(lambda x: len(x.split('|||')))\n",
    "\n",
    "# 결과 확인\n",
    "print(df[['posts', 'count']])"
   ]
  },
  {
   "cell_type": "code",
   "execution_count": 32,
   "metadata": {},
   "outputs": [
    {
     "data": {
      "text/plain": [
       "422845"
      ]
     },
     "execution_count": 32,
     "metadata": {},
     "output_type": "execute_result"
    }
   ],
   "source": [
    "df['count'].sum()"
   ]
  },
  {
   "cell_type": "code",
   "execution_count": null,
   "metadata": {},
   "outputs": [],
   "source": [
    "# 'posts' 컬럼에서 문장을 분할하는 함수\n",
    "def split_and_rejoin(row, num_sentences):\n",
    "    sentences = row.split('|||')[:num_sentences]  # num_sentences 만큼 문장을 분할\n",
    "    return '|||'.join(sentences)  # 다시 합쳐서 반환\n",
    "\n",
    "# 각각의 문장 수에 대해 위의 함수를 적용하여 새 컬럼 생성\n",
    "df['10sen'] = df['posts'].apply(lambda x: split_and_rejoin(x, 10))\n",
    "df['20sen'] = df['posts'].apply(lambda x: split_and_rejoin(x, 20))\n",
    "df['25sen'] = df['posts'].apply(lambda x: split_and_rejoin(x, 25))\n",
    "df['30sen'] = df['posts'].apply(lambda x: split_and_rejoin(x, 30))\n",
    "df['40sen'] = df['posts'].apply(lambda x: split_and_rejoin(x, 40))\n",
    "\n",
    "# 결과 확인\n",
    "df"
   ]
  },
  {
   "cell_type": "code",
   "execution_count": 36,
   "metadata": {},
   "outputs": [],
   "source": [
    "def preprocess_text(text):\n",
    "    # Remove URLs\n",
    "    text = re.sub(r'http\\S+', '', text)\n",
    "    \n",
    "    # Remove special symbols and punctuation (excluding periods)\n",
    "    text = re.sub(r'(?<!\\.)\\.{3,}(?!\\.)', '', text)  # Remove occurrences of three or more periods\n",
    "    text = re.sub(r'[^\\w\\s\\.]', '', text)  # Remove special symbols and punctuation except periods\n",
    "    \n",
    "    # Remove all numbers (improved to catch more patterns)\n",
    "    text = re.sub(r'\\b\\d+(\\.\\d+)?', '', text)  # Remove numbers (both integers and decimals)\n",
    "    text = re.sub(r'\\d+', '', text)  # Remove all remaining digits\n",
    "    \n",
    "    text = re.sub(r'_', '', text)  # Remove underscores\n",
    "    text = text.lower()\n",
    "\n",
    "    # Replace multiple spaces with a single space\n",
    "    text = re.sub(r'\\s+', ' ', text)\n",
    "    \n",
    "    # Remove leading and trailing spaces\n",
    "    text = text.strip()\n",
    "    \n",
    "    return text"
   ]
  },
  {
   "cell_type": "code",
   "execution_count": null,
   "metadata": {},
   "outputs": [],
   "source": [
    "df['10']= df['10sen'].apply(preprocess_text)\n",
    "df['20']=df['20sen'].apply(preprocess_text)\n",
    "df['25']=df['25sen'].apply(preprocess_text)\n",
    "df['30']=df['30sen'].apply(preprocess_text)\n",
    "df['40']=df['40sen'].apply(preprocess_text)\n",
    "df"
   ]
  },
  {
   "cell_type": "code",
   "execution_count": null,
   "metadata": {},
   "outputs": [],
   "source": [
    "dff = df.drop(columns=['posts', '10sen', '20sen','25sen', '30sen', '40sen'], inplace=True)\n",
    "df"
   ]
  },
  {
   "cell_type": "code",
   "execution_count": 40,
   "metadata": {},
   "outputs": [],
   "source": [
    "df.to_csv('MBTI_prepro2.7.csv', index=False, encoding= 'utf-8-sig')"
   ]
  }
 ],
 "metadata": {
  "kernelspec": {
   "display_name": "base",
   "language": "python",
   "name": "python3"
  },
  "language_info": {
   "codemirror_mode": {
    "name": "ipython",
    "version": 3
   },
   "file_extension": ".py",
   "mimetype": "text/x-python",
   "name": "python",
   "nbconvert_exporter": "python",
   "pygments_lexer": "ipython3",
   "version": "3.11.5"
  }
 },
 "nbformat": 4,
 "nbformat_minor": 2
}
